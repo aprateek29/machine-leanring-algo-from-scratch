{
  "nbformat": 4,
  "nbformat_minor": 0,
  "metadata": {
    "colab": {
      "name": "010 K Means.ipynb",
      "provenance": []
    },
    "kernelspec": {
      "name": "python3",
      "display_name": "Python 3"
    }
  },
  "cells": [
    {
      "cell_type": "code",
      "metadata": {
        "id": "1Dpc5eUIpEWH"
      },
      "source": [
        "import numpy as np\n",
        "import matplotlib.pyplot as plt\n"
      ],
      "execution_count": 5,
      "outputs": []
    },
    {
      "cell_type": "code",
      "metadata": {
        "id": "PJhfvAUdpF3M"
      },
      "source": [
        "np.random.seed(42)"
      ],
      "execution_count": 2,
      "outputs": []
    },
    {
      "cell_type": "code",
      "metadata": {
        "id": "YcGZi7hJpL8x"
      },
      "source": [
        "def euclidean_distance(x1, x2):\n",
        "  return np.sqrt(np.sum((x1-x2)**2))"
      ],
      "execution_count": 3,
      "outputs": []
    },
    {
      "cell_type": "code",
      "metadata": {
        "id": "ph9VyGkDpUjO"
      },
      "source": [
        "class KMeans:\n",
        "  def __init__(self, K=5, max_iters=100, plot_steps=False):\n",
        "    self.K = K\n",
        "    self.max_iters = max_iters\n",
        "    self.plot_steps = plot_steps\n",
        "\n",
        "    # list of samples indices for each cluster\n",
        "    self.clusters = [[] for _ in range(self.K)]\n",
        "    \n",
        "    # mean feature vector for each cluster\n",
        "    self.centroids = []\n",
        "\n",
        "  def predict(self, X):\n",
        "    self.X = X\n",
        "    self.n_samples, self.n_features = X.shape\n",
        "\n",
        "    # initialize centroids\n",
        "    random_sample_idxs = np.random.choice(self.n_samples, self.K, replace=False)\n",
        "    self.centroids = [self.X[idx] for idx in random_sample_idxs]\n",
        "\n",
        "    # optimization\n",
        "    for _ in range(self.max_iters):\n",
        "      # update clusters\n",
        "      self.clusters = self._create_clusters(self.centroids)\n",
        "      if self.plot_steps:\n",
        "        self.plot()\n",
        "      # update centroids\n",
        "      centroids_old = self.centroids\n",
        "      self.centroids = self._get_centroids(self.clusters)\n",
        "      if self.plot_steps:\n",
        "        self.plot()\n",
        "\n",
        "      # check if converged\n",
        "      if self._is_converged(centroids_old, self.centroids):\n",
        "        break\n",
        "\n",
        "    # return cluster labels\n",
        "    return self._get_cluster_labels(self.clusters)\n",
        "\n",
        "  def _get_cluster_labels(self, clusters):\n",
        "    labels = np.empty(self.n_samples)\n",
        "    for cluster_idx, cluster in enumerate(clusters):\n",
        "      for sample_idx in cluster:\n",
        "        labels[sample_idx] = cluster_idx\n",
        "    return labels\n",
        "\n",
        "  def _create_clusters(self, centroids):\n",
        "    clusters = [[] for _ in range(self.K)]\n",
        "    for idx, sample in enumerate(self.X):\n",
        "      centroid_idx = self._closest_centroid(sample, centroids)\n",
        "      clusters[centroid_idx].append(idx)\n",
        "    return clusters\n",
        "\n",
        "  def _closest_centroid(self, sample, centroids):\n",
        "    distances = [euclidean_distance(sample, point) for point in centroids]\n",
        "    closest_idx = np.argmin(distances)\n",
        "    return closest_idx\n",
        "\n",
        "  def _get_centroids(self, clusters):\n",
        "    centroids = np.zeros((self.K, self.n_features))\n",
        "    for cluster_idx, cluster in enumerate(clusters):\n",
        "      cluster_mean = np.mean(self.X[cluster], axis=0)\n",
        "      centroids[cluster_idx] = cluster_mean\n",
        "    return centroids\n",
        "\n",
        "  def _is_converged(self, centroids_old, centroids):\n",
        "    distances = [euclidean_distance(centroids_old[i], centroids[i]) for i in range(self.K)]\n",
        "    return sum(distances) == 0\n",
        "\n",
        "  def plot(self):\n",
        "    fig, ax = plt.subplots(figsize=(12, 8))\n",
        "\n",
        "    for i, index in enumerate(self.clusters):\n",
        "      point = self.X[index].T\n",
        "      ax.scatter(*point)\n",
        "\n",
        "    for point in self.centroids:\n",
        "      ax.scatter(*point, marker='x', color='black', linewidth=2)\n",
        "    plt.show()"
      ],
      "execution_count": 10,
      "outputs": []
    },
    {
      "cell_type": "code",
      "metadata": {
        "id": "eOl6z30Mth50"
      },
      "source": [
        "# Testing\n",
        "from sklearn.datasets import make_blobs\n",
        "import matplotlib.pyplot as plt"
      ],
      "execution_count": 7,
      "outputs": []
    },
    {
      "cell_type": "code",
      "metadata": {
        "colab": {
          "base_uri": "https://localhost:8080/"
        },
        "id": "YgTjIFHYuYBB",
        "outputId": "8bb90530-4bfd-4fdd-d11d-8dc92cadcbf5"
      },
      "source": [
        "X, y = make_blobs(centers=4, n_samples=500, n_features=2, shuffle=True, random_state=42)\n",
        "print(X.shape)\n",
        "\n",
        "clusters = len(np.unique(y))\n",
        "print(clusters)"
      ],
      "execution_count": 11,
      "outputs": [
        {
          "output_type": "stream",
          "text": [
            "(500, 2)\n",
            "4\n"
          ],
          "name": "stdout"
        }
      ]
    },
    {
      "cell_type": "code",
      "metadata": {
        "colab": {
          "base_uri": "https://localhost:8080/",
          "height": 440
        },
        "id": "r8XJycRPukDS",
        "outputId": "fc305d31-963f-454a-f79e-8ae882439086"
      },
      "source": [
        "k = KMeans(K=clusters, max_iters=150, plot_steps=False)\n",
        "y_pred = k.predict(X)\n",
        "k.plot()"
      ],
      "execution_count": 18,
      "outputs": [
        {
          "output_type": "display_data",
          "data": {
            "image/png": "[encoded data removed]",
            "text/plain": [
              "<Figure size 864x576 with 1 Axes>"
            ]
          },
          "metadata": {
            "tags": [],
            "needs_background": "light"
          }
        }
      ]
    },
    {
      "cell_type": "code",
      "metadata": {
        "id": "pXHh0bchurkX"
      },
      "source": [
        ""
      ],
      "execution_count": null,
      "outputs": []
    }
  ]
}